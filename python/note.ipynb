{
 "metadata": {
  "language_info": {
   "codemirror_mode": {
    "name": "ipython",
    "version": 3
   },
   "file_extension": ".py",
   "mimetype": "text/x-python",
   "name": "python",
   "nbconvert_exporter": "python",
   "pygments_lexer": "ipython3",
   "version": "3.7.4"
  },
  "orig_nbformat": 2,
  "kernelspec": {
   "name": "python374jvsc74a57bd0c360f7f21a72e5083ad62d0bcf8bfd45b1ab32f2b7b7db5d7b0dd8bb45545b1c",
   "display_name": "Python 3.7.4 64-bit ('base': conda)"
  }
 },
 "nbformat": 4,
 "nbformat_minor": 2,
 "cells": [
  {
   "cell_type": "code",
   "execution_count": 27,
   "metadata": {},
   "outputs": [],
   "source": [
    "import numpy as np\n",
    "# from sklearn.metrics.pairwise import rbf_kernel\n",
    "from sklearn.svm import SVC\n",
    "from sklearn.cluster import KMeans\n",
    "from scipy.spatial.distance import pdist\n",
    "from sklearn.neighbors import NearestNeighbors, KDTree"
   ]
  },
  {
   "cell_type": "code",
   "execution_count": 2,
   "metadata": {},
   "outputs": [],
   "source": [
    "np.random.seed(3)\n",
    "data = np.random.rand(100, 2)"
   ]
  },
  {
   "cell_type": "code",
   "execution_count": 3,
   "metadata": {},
   "outputs": [],
   "source": [
    "# K = rbf_kernel(data, data, 1.8)\n",
    "# print(f\"K: {K.shape}\")\n",
    "# np.dot(K[k, :], K[:, k]) / (K[k, k] + lambda_)"
   ]
  },
  {
   "cell_type": "code",
   "execution_count": 14,
   "metadata": {},
   "outputs": [
    {
     "output_type": "execute_result",
     "data": {
      "text/plain": [
       "SVC()"
      ]
     },
     "metadata": {},
     "execution_count": 14
    }
   ],
   "source": [
    "# make some fake data X and y\n",
    "np.random.seed(0)\n",
    "train_X = np.random.rand(100, 3)\n",
    "train_y = np.random.randint(0,10, size=100)\n",
    "# print(train_y.min(), train_y.max())\n",
    "svc = SVC()\n",
    "svc.fit(train_X, train_y)"
   ]
  },
  {
   "cell_type": "code",
   "execution_count": 15,
   "metadata": {},
   "outputs": [
    {
     "output_type": "execute_result",
     "data": {
      "text/plain": [
       "array([2])"
      ]
     },
     "metadata": {},
     "execution_count": 15
    }
   ],
   "source": [
    "test_X = np.random.rand(1, 3)\n",
    "svc.predict(test_X)"
   ]
  },
  {
   "cell_type": "code",
   "execution_count": 4,
   "metadata": {},
   "outputs": [],
   "source": [
    "def rbf_kernel(X, Y, sigma):\n",
    "    N, K = X.shape\n",
    "    M = Y.shape[0]\n",
    "\n",
    "    K_xy = np.ones(M)*np.sum(X**2) + np.ones(N)*np.sum(Y**2) - 2*np.dot(X, Y.transpose())\n",
    "    K_xy = np.exp(-0.5 * K_xy / sigma**2)\n",
    "\n",
    "    return K_xy"
   ]
  },
  {
   "cell_type": "code",
   "execution_count": 7,
   "metadata": {},
   "outputs": [
    {
     "output_type": "stream",
     "name": "stdout",
     "text": [
      "K: (100, 100)\n"
     ]
    }
   ],
   "source": [
    "K = rbf_kernel(data, data, 1.8)\n",
    "print(f\"K: {K.shape}\")\n",
    "# print(K[:10])"
   ]
  },
  {
   "cell_type": "code",
   "execution_count": 8,
   "metadata": {},
   "outputs": [],
   "source": [
    "def halving(K, m, candidate_index=None, lambda_=0.001):\n",
    "    \n",
    "    n = K.shape[0]\n",
    "    print(f'number of data: {n}')\n",
    "\n",
    "    m = min(n, m)\n",
    "    print(f'number of samples: {m}')\n",
    "\n",
    "    if candidate_index is None:\n",
    "        candidate_index = np.array(range(n))\n",
    "    \n",
    "    print(f'candidate_index: {len(candidate_index)}')\n",
    "\n",
    "    q = len(candidate_index)\n",
    "\n",
    "    index = np.empty(m, dtype=int)\n",
    "    print(f'number of index: {index.shape}')\n",
    "\n",
    "    print('Selecting samples......')\n",
    "    for i in range(m):\n",
    "        score = np.zeros(q)\n",
    "        for j in range(q):\n",
    "            k = candidate_index[j]\n",
    "            # print(k)\n",
    "            score[j] = np.dot(K[k, :], K[:, k]) / (K[k, k] + lambda_)\n",
    "        \n",
    "        I = score.argmax()\n",
    "        # print(I)\n",
    "        index[i] = candidate_index[I]\n",
    "\n",
    "        # update K\n",
    "        K = K - np.dot(K[:, index[i]], K[index[i], :]) / (K[index[i], index[i]] + lambda_)\n",
    "\n",
    "    print('Done.\\n')\n",
    "    return index"
   ]
  },
  {
   "cell_type": "code",
   "execution_count": 9,
   "metadata": {},
   "outputs": [
    {
     "output_type": "stream",
     "name": "stdout",
     "text": [
      "number of data: 100\nnumber of samples: 4\ncandidate_index: 100\nnumber of index: (4,)\nSelecting samples......\nDone.\n\n"
     ]
    },
    {
     "output_type": "execute_result",
     "data": {
      "text/plain": [
       "array([2, 2, 2, 2])"
      ]
     },
     "metadata": {},
     "execution_count": 9
    }
   ],
   "source": [
    "id = halving(K, 4)\n",
    "id"
   ]
  },
  {
   "cell_type": "code",
   "execution_count": 10,
   "metadata": {},
   "outputs": [],
   "source": [
    "def number_density(data, center, radius):\n",
    "    print(f'length of data: {len(data)}\\nlength of center: {len(center)}')\n",
    "    f = 0\n",
    "    for i in range(len(data)):\n",
    "        ball_dist = np.zeros(len(center))\n",
    "        dist = np.ones(len(center))\n",
    "        for j in range(len(center)):\n",
    "            dist[j] = np.linalg.norm(data[i, :] - center[j, :])\n",
    "            if dist[j] < radius:\n",
    "                ball_dist[j] = dist[j]\n",
    "\n",
    "        # print(np.exp(ball_dist/1.8))\n",
    "        f += np.sum(np.exp(ball_dist/1.8)**2) / (len(ball_dist) + 1)\n",
    "    \n",
    "    return f"
   ]
  },
  {
   "cell_type": "code",
   "execution_count": 11,
   "metadata": {},
   "outputs": [],
   "source": [
    "kmeans = KMeans(n_clusters=4).fit(data)\n",
    "center = kmeans.cluster_centers_"
   ]
  },
  {
   "cell_type": "code",
   "execution_count": 12,
   "metadata": {
    "tags": []
   },
   "outputs": [
    {
     "output_type": "stream",
     "name": "stdout",
     "text": [
      "length of data: 100\nlength of center: 4\n"
     ]
    },
    {
     "output_type": "execute_result",
     "data": {
      "text/plain": [
       "83.2588001745248"
      ]
     },
     "metadata": {},
     "execution_count": 12
    }
   ],
   "source": [
    "f = number_density(data, center, radius=0.25)\n",
    "f"
   ]
  },
  {
   "cell_type": "code",
   "execution_count": 33,
   "metadata": {},
   "outputs": [],
   "source": [
    "def SDAL(data, k):\n",
    "\n",
    "    kmeans = KMeans(n_clusters=k).fit(data)\n",
    "    center = kmeans.cluster_centers_\n",
    "\n",
    "    radius = 0.25\n",
    "    L, R = data.shape\n",
    "    \n",
    "    f = number_density(data, center, radius)\n",
    "    T = 0\n",
    "    while T<50:\n",
    "        for j in range(k):\n",
    "            ball = []\n",
    "            dist = np.empty(L)\n",
    "            for i in range(L):\n",
    "                dist[i] = np.linalg.norm(data[i] - center[j])\n",
    "                if dist[i] < radius:\n",
    "                    ball.append(data[i])\n",
    "            if len(ball)==0:\n",
    "                center[j] = center[j]\n",
    "            else:\n",
    "                center[j] = np.mean(ball)\n",
    "\n",
    "        F = number_density(data, center, radius)\n",
    "        \n",
    "        if F-f==0 or len(np.argwhere(pdist(center)<2*radius))>0:\n",
    "            break\n",
    "        else:\n",
    "            f = F\n",
    "        T+=1\n",
    "        radius*=1.1\n",
    "    \n",
    "    tree = KDTree(data)\n",
    "    _, idx = tree.query(center, k=1)\n",
    "    # print(idx)\n",
    "    center = data[idx].squeeze()\n",
    "            \n",
    "    return center"
   ]
  },
  {
   "cell_type": "code",
   "execution_count": 34,
   "metadata": {},
   "outputs": [
    {
     "output_type": "stream",
     "name": "stdout",
     "text": [
      "length of data: 100\nlength of center: 4\nlength of data: 100\nlength of center: 4\n[[55]\n [55]\n [28]\n [21]]\n"
     ]
    },
    {
     "output_type": "execute_result",
     "data": {
      "text/plain": [
       "(4, 2)"
      ]
     },
     "metadata": {},
     "execution_count": 34
    }
   ],
   "source": [
    "center = SDAL(data, 4)\n",
    "center.shape"
   ]
  },
  {
   "cell_type": "code",
   "execution_count": null,
   "metadata": {},
   "outputs": [],
   "source": []
  }
 ]
}