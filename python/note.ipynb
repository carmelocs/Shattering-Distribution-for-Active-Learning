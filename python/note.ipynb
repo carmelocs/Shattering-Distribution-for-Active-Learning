{
 "metadata": {
  "language_info": {
   "codemirror_mode": {
    "name": "ipython",
    "version": 3
   },
   "file_extension": ".py",
   "mimetype": "text/x-python",
   "name": "python",
   "nbconvert_exporter": "python",
   "pygments_lexer": "ipython3",
   "version": "3.7.4"
  },
  "orig_nbformat": 2,
  "kernelspec": {
   "name": "python374jvsc74a57bd0c360f7f21a72e5083ad62d0bcf8bfd45b1ab32f2b7b7db5d7b0dd8bb45545b1c",
   "display_name": "Python 3.7.4 64-bit ('base': conda)"
  }
 },
 "nbformat": 4,
 "nbformat_minor": 2,
 "cells": [
  {
   "cell_type": "code",
   "execution_count": 1,
   "metadata": {},
   "outputs": [],
   "source": [
    "import numpy as np\n",
    "from sklearn.metrics.pairwise import rbf_kernel\n",
    "from sklearn.svm import SVC"
   ]
  },
  {
   "cell_type": "code",
   "execution_count": 2,
   "metadata": {},
   "outputs": [],
   "source": [
    "np.random.seed(0)\n",
    "data = np.random.rand(800, 2)"
   ]
  },
  {
   "cell_type": "code",
   "execution_count": 3,
   "metadata": {},
   "outputs": [],
   "source": [
    "K = rbf_kernel(data, data, 1.8)"
   ]
  },
  {
   "cell_type": "code",
   "execution_count": 4,
   "metadata": {},
   "outputs": [
    {
     "output_type": "execute_result",
     "data": {
      "text/plain": [
       "SVC()"
      ]
     },
     "metadata": {},
     "execution_count": 4
    }
   ],
   "source": [
    "# make some fake data X and y\n",
    "np.random.seed(0)\n",
    "train_X = np.random.rand(100, 3)\n",
    "train_y = np.random.randint(0,10, size=100)\n",
    "# print(train_y.min(), train_y.max())\n",
    "svc = SVC()\n",
    "svc.fit(train_X, train_y)"
   ]
  },
  {
   "cell_type": "code",
   "execution_count": 5,
   "metadata": {},
   "outputs": [
    {
     "output_type": "execute_result",
     "data": {
      "text/plain": [
       "array([2])"
      ]
     },
     "metadata": {},
     "execution_count": 5
    }
   ],
   "source": [
    "test_X = np.random.rand(1, 3)\n",
    "svc.predict(test_X)"
   ]
  },
  {
   "cell_type": "code",
   "execution_count": 27,
   "metadata": {},
   "outputs": [],
   "source": [
    "def halving(K, m, candidate_index=None, lambda_=0.001):\n",
    "    \n",
    "    n = K.shape[0]\n",
    "    print(f'number of data: {n}')\n",
    "\n",
    "    m = min(n, m)\n",
    "    print(f'number of samples: {m}')\n",
    "\n",
    "    if candidate_index is None:\n",
    "        candidate_index = list(range(n))\n",
    "    print(f'candidate_index: {len(candidate_index)}')\n",
    "\n",
    "    q = len(candidate_index)\n",
    "\n",
    "    index = np.zeros(m)\n",
    "    print(f'number of index: {index.shape}')\n",
    "\n",
    "    for i in range(m):\n",
    "        score = np.zeros(n)\n",
    "        for j in range(q):\n",
    "            k = candidate_index[j]\n",
    "            score[j] = np.dot(K[k, :], K[:, k]) / (K[k, k] + lambda_)\n",
    "        \n",
    "        I = score.argmax()\n",
    "        index[i] = candidate_index[I]\n",
    "\n",
    "        # update K\n",
    "        K = K - np.dot(K[:, int(index[i])], K[int(index[i]), :]) / (K[int(index[i]), int(index[i])] + lambda_)\n",
    "\n",
    "    return index"
   ]
  },
  {
   "cell_type": "code",
   "execution_count": 28,
   "metadata": {},
   "outputs": [
    {
     "output_type": "stream",
     "name": "stdout",
     "text": [
      "number of data: 800\n",
      "number of samples: 400\n",
      "candidate_index: 800\n",
      "number of index: (400,)\n",
      "ipykernel_launcher:22: RuntimeWarning: invalid value encountered in double_scalars\n",
      "ipykernel_launcher:29: RuntimeWarning: invalid value encountered in double_scalars\n"
     ]
    }
   ],
   "source": [
    "id = halving(K, 400)"
   ]
  },
  {
   "cell_type": "code",
   "execution_count": null,
   "metadata": {},
   "outputs": [],
   "source": []
  }
 ]
}