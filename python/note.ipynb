{
 "metadata": {
  "language_info": {
   "codemirror_mode": {
    "name": "ipython",
    "version": 3
   },
   "file_extension": ".py",
   "mimetype": "text/x-python",
   "name": "python",
   "nbconvert_exporter": "python",
   "pygments_lexer": "ipython3",
   "version": "3.7.6"
  },
  "orig_nbformat": 2,
  "kernelspec": {
   "name": "python376jvsc74a57bd0f7c338d389f4732a25d0e25fa9b9cc5d70bf419da0d097d09d423e0fa7895907",
   "display_name": "Python 3.7.6 64-bit ('base': conda)"
  }
 },
 "nbformat": 4,
 "nbformat_minor": 2,
 "cells": [
  {
   "cell_type": "code",
   "execution_count": 18,
   "metadata": {},
   "outputs": [],
   "source": [
    "import numpy as np\n",
    "from sklearn.svm import SVC\n",
    "from sklearn.cluster import KMeans\n",
    "from scipy.spatial.distance import pdist\n",
    "from sklearn.neighbors import NearestNeighbors, KDTree\n",
    "from sklearn.metrics.pairwise import rbf_kernel"
   ]
  },
  {
   "cell_type": "code",
   "execution_count": 56,
   "metadata": {},
   "outputs": [],
   "source": [
    "num_data = 800\n",
    "num_samples = num_data // 2\n",
    "num_features = 2\n",
    "num_centers = 4\n",
    "rand_seed = 100"
   ]
  },
  {
   "cell_type": "code",
   "execution_count": 57,
   "metadata": {},
   "outputs": [],
   "source": [
    "np.random.seed(rand_seed)\n",
    "data = np.random.rand(num_data, num_features)"
   ]
  },
  {
   "cell_type": "code",
   "execution_count": 58,
   "metadata": {},
   "outputs": [],
   "source": [
    "# import scipy.io\n",
    "# mat = scipy.io.loadmat('Syndata.mat')\n",
    "# data = mat['data']"
   ]
  },
  {
   "cell_type": "code",
   "execution_count": 59,
   "metadata": {},
   "outputs": [],
   "source": [
    "# K = rbf_kernel(data, data, 1.8)\n",
    "# print(f\"K: {K.shape}\")\n",
    "# np.dot(K[k, :], K[:, k]) / (K[k, k] + lambda_)"
   ]
  },
  {
   "cell_type": "code",
   "execution_count": 60,
   "metadata": {},
   "outputs": [
    {
     "output_type": "execute_result",
     "data": {
      "text/plain": [
       "SVC()"
      ]
     },
     "metadata": {},
     "execution_count": 60
    }
   ],
   "source": [
    "# make some fake data X and y\n",
    "np.random.seed(0)\n",
    "train_X = np.random.rand(100, 3)\n",
    "train_y = np.random.randint(0,10, size=100)\n",
    "# print(train_y.min(), train_y.max())\n",
    "svc = SVC()\n",
    "svc.fit(train_X, train_y)"
   ]
  },
  {
   "cell_type": "code",
   "execution_count": 61,
   "metadata": {},
   "outputs": [
    {
     "output_type": "execute_result",
     "data": {
      "text/plain": [
       "array([2])"
      ]
     },
     "metadata": {},
     "execution_count": 61
    }
   ],
   "source": [
    "test_X = np.random.rand(1, 3)\n",
    "svc.predict(test_X)"
   ]
  },
  {
   "cell_type": "code",
   "execution_count": 62,
   "metadata": {},
   "outputs": [],
   "source": [
    "# def rbf_kernel(X, Y, sigma):\n",
    "#     N, K = X.shape\n",
    "#     M = Y.shape[0]\n",
    "\n",
    "#     K_xy = np.ones(M)*np.sum(X**2) + np.ones(N)*np.sum(Y**2) - 2*np.dot(X, Y.transpose())\n",
    "#     K_xy = np.exp(-0.5 * K_xy / sigma**2)\n",
    "\n",
    "#     return K_xy"
   ]
  },
  {
   "cell_type": "code",
   "execution_count": 63,
   "metadata": {},
   "outputs": [
    {
     "output_type": "stream",
     "name": "stdout",
     "text": [
      "K: (800, 800)\n[[1.         0.54721612 0.56746044 ... 0.99036409 0.79249451 0.97405525]\n [0.54721612 1.         0.28403243 ... 0.62878715 0.27846726 0.67467183]\n [0.56746044 0.28403243 1.         ... 0.53710328 0.25922009 0.59177352]\n ...\n [0.34257765 0.89784338 0.24527744 ... 0.40719282 0.12748867 0.46537413]\n [0.86075932 0.33800734 0.30829084 ... 0.83046904 0.99057702 0.75734021]\n [0.87458274 0.42212902 0.2931007  ... 0.86689002 0.95810446 0.79805147]]\n"
     ]
    }
   ],
   "source": [
    "# data = np.array(([1,1],[1,2],[3,3]))\n",
    "K = rbf_kernel(data, data, 1.8)\n",
    "print(f\"K: {K.shape}\")\n",
    "print(K[:10])\n",
    "# print(K.all(0))"
   ]
  },
  {
   "cell_type": "code",
   "execution_count": 64,
   "metadata": {},
   "outputs": [],
   "source": [
    "def halving(K, m, candidate_index=None, lambda_=0.001):\n",
    "    \n",
    "    n = K.shape[0]\n",
    "    print(f'number of data: {n}')\n",
    "\n",
    "    m = min(n, m)\n",
    "    print(f'number of samples: {m}')\n",
    "\n",
    "    if candidate_index is None:\n",
    "        candidate_index = np.array(range(n))\n",
    "    \n",
    "    # print(f'candidate_index: {candidate_index}')\n",
    "\n",
    "    q = len(candidate_index)\n",
    "\n",
    "    index = np.empty(m, dtype=int)\n",
    "    # print(f'number of index: {index.shape}')\n",
    "\n",
    "    print('Selecting samples......')\n",
    "    for i in range(m):\n",
    "        score = np.zeros(q)\n",
    "        for j in range(q):\n",
    "            k = candidate_index[j]\n",
    "            # print(k)\n",
    "            score[j] = np.dot(K[k, :], K[:, k]) / (K[k, k] + lambda_)\n",
    "        \n",
    "        I = score.argmax()\n",
    "        # print(I)\n",
    "        index[i] = candidate_index[I]\n",
    "\n",
    "        # update K\n",
    "        # K = K - np.dot(K[:, index[i]], K[index[i], :]) / (K[index[i], index[i]] + lambda_)\n",
    "        # K = K - K[:, index[i]][:, np.newaxis] * K[index[i], :][np.newaxis, :] / (K[index[i], index[i]] + lambda_)\n",
    "        K = K - np.outer(K[:, index[i]], K[index[i], :]) / (K[index[i], index[i]] + lambda_)\n",
    "        # print((np.outer(K[:, index[i]], K[index[i], :])).shape)\n",
    "        # print((np.outer(K[:, index[i]], K[index[i], :]))==(K[:, index[i]][:, np.newaxis] * K[index[i], :][np.newaxis, :]))\n",
    "\n",
    "    print('Done.\\n')\n",
    "    return index"
   ]
  },
  {
   "cell_type": "code",
   "execution_count": 66,
   "metadata": {},
   "outputs": [
    {
     "output_type": "stream",
     "name": "stdout",
     "text": [
      "number of data: 800\n",
      "number of samples: 400\n",
      "Selecting samples......\n",
      "Done.\n",
      "\n",
      "[351 387 580 735 727 268 317 144 195 331 271 563 200 692 785  69 103 766\n",
      " 245 509 402 480 307 595 198 441  22 176 349 646 709  98 444 759 570 660\n",
      " 525  94 168 224  73 474 662 730 727 370  13 213  41 412 199 122 757 482\n",
      "  94 343  80 234 546 705 759 225 238 388   2 795 133 433 218  61 539 754\n",
      " 247 150 662 507 474 313 349 480 431  86 282 744 628 428 618 382 560  69\n",
      " 615 331 223  73 493 412 233 103 153 111  59 513   2 638 225 355 161  61\n",
      " 150 270 696 435 374 238 328 262 531 234 507 415 660 281 294 416 108 493\n",
      " 482 713   5 103 399 296 253  33  73 603 329 412 176 570 281  42  13  41\n",
      " 615 270 320  61 268 696  69   4 612 225 480 507  33 323 662 744  20 166\n",
      " 413 349 234 385 759 233 238 192 482 466 158 631  33   2   8 228 677 660\n",
      " 518 696 152 570 424 331  73 665 412 373 685 101 768 759 766 143 234 268\n",
      "  83 317 744 734  44 507 509 480 662 258 152 273 323 176 474 573 225  15\n",
      " 238 335 229 349 345 413 139  41 267 329  69  61 273 685 373 421 759 234\n",
      " 103 766 570 320 412 524 443 740 317 642  63 625 101  73 482 415 263 373\n",
      " 507 677 267 161 329 320   2 479 615  63 758 225 345 288 759 198 685 238\n",
      "  33 273 480 524 152 103  15  70 349 662 476 176 229 570 325 413 373 376\n",
      "  41 632 273 244 685 509 412 766 409 320  15  69 756   1 507 413  73 759\n",
      " 734 229 451 373 317  61  31 192 161 371 685 244 101 345  63 238 331 480\n",
      " 273 784 482 225 625 713  44 662 412 373 421 493 263 792  31   2 320 570\n",
      " 335 413 507 654 466 317 766 744 549 524 244  61 273 345  33 756 323 263\n",
      " 349  41  31  70 371  15  63 176 214  69 317 229 509 524 273 238 759 373\n",
      " 685 244 480 798 152 225   3 662 424 103 413 412  15 320 120 766  31 101\n",
      " 625 524 570 507]\n",
      "181\n"
     ]
    }
   ],
   "source": [
    "K_random = np.random.rand(100, 100)\n",
    "# print(K_random[:10])\n",
    "id = halving(K, num_samples)\n",
    "print(id)\n",
    "print(len(set(id)))"
   ]
  },
  {
   "cell_type": "code",
   "execution_count": 67,
   "metadata": {},
   "outputs": [],
   "source": [
    "def number_density(data, center, radius):\n",
    "    # print(f'length of data: {len(data)}\\nlength of center: {len(center)}')\n",
    "    f = 0\n",
    "    for i in range(len(data)):\n",
    "        ball_dist = np.zeros(len(center))\n",
    "        dist = np.ones(len(center))\n",
    "        for j in range(len(center)):\n",
    "            dist[j] = np.linalg.norm(data[i, :] - center[j, :])\n",
    "            if dist[j] < radius:\n",
    "                ball_dist[j] = dist[j]\n",
    "\n",
    "        # print(np.exp(ball_dist/1.8))\n",
    "        f += np.sum(np.exp(ball_dist/1.8)**2) / (len(ball_dist) + 1)\n",
    "    \n",
    "    return f"
   ]
  },
  {
   "cell_type": "code",
   "execution_count": 68,
   "metadata": {},
   "outputs": [],
   "source": [
    "# kmeans = KMeans(n_clusters=num_centers).fit(data)\n",
    "# center = kmeans.cluster_centers_\n",
    "# f = number_density(data, center, radius=0.25)\n",
    "# f"
   ]
  },
  {
   "cell_type": "code",
   "execution_count": 69,
   "metadata": {},
   "outputs": [],
   "source": [
    "def SDAL(data, k):\n",
    "\n",
    "    kmeans = KMeans(n_clusters=k).fit(data)\n",
    "    center = kmeans.cluster_centers_\n",
    "\n",
    "    radius = 0.25\n",
    "    L, R = data.shape\n",
    "    \n",
    "    f = number_density(data, center, radius)\n",
    "    T = 0\n",
    "    while T<50:\n",
    "        for j in range(k):\n",
    "            ball = []\n",
    "            dist = np.empty(L)\n",
    "            for i in range(L):\n",
    "                dist[i] = np.linalg.norm(data[i] - center[j])\n",
    "                if dist[i] < radius:\n",
    "                    ball.append(data[i])\n",
    "            if len(ball)==0:\n",
    "                center[j] = center[j]\n",
    "            else:\n",
    "                center[j] = np.mean(ball)\n",
    "\n",
    "        F = number_density(data, center, radius)\n",
    "        \n",
    "        if F-f==0 or len(np.argwhere(pdist(center)<2*radius))>0:\n",
    "            break\n",
    "        else:\n",
    "            f = F\n",
    "        T+=1\n",
    "        radius*=1.1\n",
    "    \n",
    "    tree = KDTree(data)\n",
    "    _, idx = tree.query(center, k=1)\n",
    "    # print(idx)\n",
    "    center = data[idx].squeeze()\n",
    "            \n",
    "    return center"
   ]
  },
  {
   "cell_type": "code",
   "execution_count": 70,
   "metadata": {},
   "outputs": [
    {
     "output_type": "execute_result",
     "data": {
      "text/plain": [
       "array([[0.2043011 , 0.23228687],\n",
       "       [0.78667137, 0.77845701],\n",
       "       [0.50181359, 0.50172612],\n",
       "       [0.50181359, 0.50172612]])"
      ]
     },
     "metadata": {},
     "execution_count": 70
    }
   ],
   "source": [
    "center = SDAL(data[id], num_centers)\n",
    "center"
   ]
  },
  {
   "cell_type": "code",
   "execution_count": null,
   "metadata": {},
   "outputs": [],
   "source": []
  }
 ]
}