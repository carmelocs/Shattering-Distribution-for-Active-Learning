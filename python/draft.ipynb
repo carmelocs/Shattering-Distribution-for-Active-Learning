{
 "metadata": {
  "language_info": {
   "codemirror_mode": {
    "name": "ipython",
    "version": 3
   },
   "file_extension": ".py",
   "mimetype": "text/x-python",
   "name": "python",
   "nbconvert_exporter": "python",
   "pygments_lexer": "ipython3",
   "version": "3.7.6"
  },
  "orig_nbformat": 2,
  "kernelspec": {
   "name": "python376jvsc74a57bd0f7c338d389f4732a25d0e25fa9b9cc5d70bf419da0d097d09d423e0fa7895907",
   "display_name": "Python 3.7.6 64-bit ('base': conda)"
  }
 },
 "nbformat": 4,
 "nbformat_minor": 2,
 "cells": [
  {
   "cell_type": "code",
   "execution_count": 1,
   "metadata": {},
   "outputs": [],
   "source": [
    "import numpy as np\n",
    "from sklearn.metrics.pairwise import rbf_kernel\n",
    "from sklearn import svm\n"
   ]
  },
  {
   "cell_type": "code",
   "execution_count": 2,
   "metadata": {},
   "outputs": [
    {
     "output_type": "stream",
     "name": "stdout",
     "text": [
      "X: [[0.919171   0.41162646]\n [0.30526701 0.94306226]\n [0.99065169 0.19889222]\n [0.65683835 0.10649531]]\ny: [0 3 2 2]\n"
     ]
    }
   ],
   "source": [
    "np.random.seed(0)\n",
    "data = np.random.rand(800, 2)\n",
    "data_X = np.random.rand(4, 2)\n",
    "data_y = np.random.randint(0, 4, size=4)\n",
    "print(f'X: {data_X}\\ny: {data_y}')"
   ]
  },
  {
   "cell_type": "code",
   "execution_count": 3,
   "metadata": {},
   "outputs": [
    {
     "output_type": "execute_result",
     "data": {
      "text/plain": [
       "(800, 800)"
      ]
     },
     "metadata": {},
     "execution_count": 3
    }
   ],
   "source": [
    "K = rbf_kernel(data, data, 1.8)\n",
    "K.shape"
   ]
  },
  {
   "cell_type": "code",
   "execution_count": 4,
   "metadata": {},
   "outputs": [
    {
     "output_type": "execute_result",
     "data": {
      "text/plain": [
       "SVC()"
      ]
     },
     "metadata": {},
     "execution_count": 4
    }
   ],
   "source": [
    "clf = svm.SVC()\n",
    "clf.fit(data_X, data_y)"
   ]
  },
  {
   "cell_type": "code",
   "execution_count": 5,
   "metadata": {},
   "outputs": [
    {
     "output_type": "execute_result",
     "data": {
      "text/plain": [
       "array([2])"
      ]
     },
     "metadata": {},
     "execution_count": 5
    }
   ],
   "source": [
    "clf.predict([[3.0, 1.5]])"
   ]
  },
  {
   "cell_type": "code",
   "execution_count": 47,
   "metadata": {},
   "outputs": [],
   "source": [
    "def halving(K, m, lambda_ = 0.001):\n",
    "# Shattering Distribution for Active Learning. Xiaofeng~Cao and Ivor W.~Tsang.\n",
    "    \n",
    "    #Email:xiaofeng.cao.uts@gmail.com\n",
    "    \n",
    "    #The halving step.\n",
    "    \n",
    "    # Usage: [index, variance] = transdesign_sq(K, m, candidate_index, lambda)\n",
    "    \n",
    "    # Sequential transductive experiment design for halving\n",
    "# ridge regression. If kernel is linear, then the algorithm becomes an active\n",
    "# learning approach for linear ridge regression.\n",
    "    \n",
    "    # Inputs:     \n",
    "#             K--- Kernel matrix of all the data samples\n",
    "#             m--- Number of data samples to select\n",
    "#             candidate_index --- IDs of candidate samples from all the samples. \n",
    "#                        The default setting is the whole set. By specifing a\n",
    "#                        random subset, one can save computationl cost.\n",
    "#             lambda --- A regularization parameter for the kernel ridge regression\n",
    "# \n",
    "# Outputs:\n",
    "#             index--- Indices of selected data samples\n",
    "    \n",
    "    \n",
    "# if isempty(candidate_index):\n",
    "#     candidate_index=concat([arange(1,size(K,1))]).T\n",
    "\n",
    "    n = K.shape[0]\n",
    "    print(f'Num of data: {n}')\n",
    "    m = min(n, m)\n",
    "    print(f'Num of samples: {m}')\n",
    "    q = n\n",
    "    print(f'Num of data indices: {q}')\n",
    "    index = np.zeros(m)\n",
    "    print(f'Sample indices: {index.shape}')\n",
    "    print('selecting samples ... ')\n",
    "    for i in range(m):\n",
    "        score = np.zeros(q)\n",
    "        # print(f'score: {score.shape}')\n",
    "        for j in range(q):\n",
    "            # k = index[j]\n",
    "            score[j]=np.dot(K[j, :],K[:, j]) // (K[j, j] + lambda_)\n",
    "        # print(f'Max score id: {score.argmax()}')\n",
    "        I = score.argmax()\n",
    "        index[i] = I\n",
    "        K = K - np.dot(K[:, I], K[I, :]) // (K[I, I] + lambda_)\n",
    "\n",
    "    print('done \\n')\n",
    "\n",
    "    return index"
   ]
  },
  {
   "cell_type": "code",
   "execution_count": 52,
   "metadata": {},
   "outputs": [
    {
     "output_type": "stream",
     "name": "stdout",
     "text": [
      "Num of data: 800\n",
      "Num of samples: 400\n",
      "Num of data indices: 800\n",
      "Sample indices: (400,)\n",
      "selecting samples ... \n",
      "done \n",
      "\n"
     ]
    },
    {
     "output_type": "execute_result",
     "data": {
      "text/plain": [
       "(400,)"
      ]
     },
     "metadata": {},
     "execution_count": 52
    }
   ],
   "source": [
    "idx = halving(K, 400)\n",
    "idx.shape"
   ]
  },
  {
   "cell_type": "code",
   "execution_count": null,
   "metadata": {},
   "outputs": [],
   "source": []
  },
  {
   "cell_type": "code",
   "execution_count": null,
   "metadata": {},
   "outputs": [],
   "source": []
  }
 ]
}